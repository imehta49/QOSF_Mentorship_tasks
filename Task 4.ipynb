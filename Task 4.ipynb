{
 "cells": [
  {
   "cell_type": "markdown",
   "metadata": {},
   "source": [
    "# Task 4"
   ]
  },
  {
   "cell_type": "markdown",
   "metadata": {},
   "source": [
    "Find the lowest eigenvalue of the following matrix:\n",
    "  \n",
    "               1    0    0   0\n",
    "    A =        0    0   -1   0\n",
    "               0   -1    0   0\n",
    "               0    0    0   1\n",
    "            \n",
    "\n",
    "using VQE-like circuits, created from scratch. \n"
   ]
  },
  {
   "cell_type": "markdown",
   "metadata": {},
   "source": [
    "\n",
    "# Solution :"
   ]
  },
  {
   "cell_type": "markdown",
   "metadata": {},
   "source": [
    "The steps followed to solve this task are listed below. This approach is further extended to a generalised form which can be used to calculate lowest eigenvalues for any 4x4 matrix with random values. The steps are as follows:\n",
    "    \n",
    "  1. Overview\n",
    "  2. Tensor decomposition of Matrix A\n",
    "  3. Calculating Ground state energy via Exacteigensolver\n",
    "  4. Designing Ansatz\n",
    "  5. Where we go from here"
   ]
  },
  {
   "cell_type": "markdown",
   "metadata": {},
   "source": [
    "#  1. Overview"
   ]
  },
  {
   "cell_type": "markdown",
   "metadata": {},
   "source": [
    "The Variational-Quantum-Eigensolver (VQE) is a quantum/classical hybrid algorithm that makes use of the variational principle to approximate the ground state of a given Quantum Hamiltonian. VQE allows us to find an upper bound of the lowest eigenvalue of a \n",
    "hamiltonian.\n",
    "The variational principle ensures that,  given a certain quantum state $\\left|\\psi \\right\\rangle$, it satisfies the following inequivalence (we assume normalized kets):\n",
    "\n",
    "$$\n",
    "\\left\\langle \\psi \\right| H \\left| \\psi \\right\\rangle \\leq E_0 \\ ,\n",
    "$$\n",
    "\n",
    "where  E_0 \\ = ground state energy           &        $\\left|\\psi \\right\\rangle$  corresponds to the ground state of the system"
   ]
  },
  {
   "cell_type": "markdown",
   "metadata": {},
   "source": [
    "The variational principle provides an effective way to estimate the ground state of the system under investigation: by simply taking a set of kets $\\left|\\psi(\\alpha , \\, \\beta , \\, \\dots) \\right\\rangle$, depending on some parameters $(\\alpha , \\, \\beta , \\, \\dots)$, one can find the best approximation to the ground state by simply evaluating the expression $\\left\\langle \\psi (\\alpha , \\, \\beta , \\, \\dots) \\right| H \\left|\\psi (\\alpha , \\, \\beta , \\, \\dots) \\right\\rangle$ and looking for its minimum. To achieve this, we have to choose the ansatz $\\left|\\psi(\\alpha , \\, \\beta , \\, \\dots) \\right\\rangle$."
   ]
  },
  {
   "cell_type": "markdown",
   "metadata": {},
   "source": [
    "\n",
    "# 2.  Tensor Decomposition of Matrix A"
   ]
  },
  {
   "cell_type": "markdown",
   "metadata": {},
   "source": [
    "Since we want to measure a VQE-like circuit, we need to decompose the matrix into Pauli operators $\\{\\mathbb{1}, X, Y, Z\\}$\n",
    "\n",
    "$$\n",
    "\\mathbb{1} =\n",
    "\\begin{bmatrix}\n",
    "1 & 0  \\\\\n",
    "0 & 1\n",
    "\\end{bmatrix}\\quad\n",
    "X =\n",
    "\\begin{bmatrix}\n",
    "0 & 1 \\\\\n",
    "1 & 0\n",
    "\\end{bmatrix}\\quad\n",
    "Y =\n",
    "\\begin{bmatrix}\n",
    "0 & -i \\\\\n",
    "i & 0\n",
    "\\end{bmatrix}\\quad\n",
    "Z =\n",
    "\\begin{bmatrix}\n",
    "1 & 0 \\\\\n",
    "0 & -1\n",
    "\\end{bmatrix}\n",
    "$$\n",
    "\n",
    "in order to implement it on a quantum computer. In particular, since we are dealing with a $4\\times4$ matrix, two qubits are needed, thus the desired decomposition will be made of tensor products of two Pauli operators (e.g. $X_1 \\otimes Y_2$, where the subscript denotes the system on which the operator acts)."
   ]
  },
  {
   "cell_type": "markdown",
   "metadata": {},
   "source": [
    "Thus to get the pauli component of a $2^N$ x $2^N$ matrix $A$, we have:\n",
    "\n",
    "$$\n",
    "A = \\sum_{ij} \\frac{1}{4} h_{ij} \\hspace{0.5em} \\sigma_i \\otimes \\sigma_j\n",
    "$$\n",
    "And the components $h_{ij}$ are:\n",
    "\n",
    "$$\n",
    "h_{ij} = \\frac{1}{4} \\mathrm{Tr} \\bigg[ (\\sigma_i \\otimes \\sigma_j) \\cdot A \\bigg]\n",
    "$$\n",
    "\n",
    "Therefore we create a function get_components_from_matrix that does this decomposition for us.\n"
   ]
  },
  {
   "cell_type": "markdown",
   "metadata": {},
   "source": [
    "\n",
    "# Imports"
   ]
  },
  {
   "cell_type": "markdown",
   "metadata": {},
   "source": [
    "Here we mention all the imports we require :"
   ]
  },
  {
   "cell_type": "code",
   "execution_count": 1,
   "metadata": {},
   "outputs": [],
   "source": [
    "import numpy as np\n",
    "from random import random\n",
    "from scipy.optimize import minimize\n",
    "from sympy.solvers import solve \n",
    "from sympy import Symbol\n",
    "\n",
    "from qiskit import *\n",
    "from qiskit.tools.visualization import *\n",
    "from qiskit.aqua.algorithms import ExactEigensolver\n",
    "from qiskit.quantum_info.operators import Operator , Pauli\n",
    "from qiskit.aqua.operators import WeightedPauliOperator"
   ]
  },
  {
   "cell_type": "markdown",
   "metadata": {},
   "source": [
    "\n",
    "Let us convert the given matrix A as numpy array :"
   ]
  },
  {
   "cell_type": "code",
   "execution_count": 2,
   "metadata": {},
   "outputs": [],
   "source": [
    "A = np.array([[1 , 0. , 0. , 0.], [0. , 0. , -1. , 0.] , [0. , -1. , 0. , 0.] , [0. , 0. , 0. , 1.]])"
   ]
  },
  {
   "cell_type": "markdown",
   "metadata": {},
   "source": [
    "\n",
    "We now define a function which transforms our $4 \\times 4$ matrix to tensor decomposition in terms of the Pauli operators."
   ]
  },
  {
   "cell_type": "code",
   "execution_count": 3,
   "metadata": {},
   "outputs": [],
   "source": [
    "def HO(matrix):          \n",
    "    list_labels = []\n",
    "    pauli_operator = []\n",
    "    symbols = []\n",
    "    equations = []\n",
    "    list_dict = []\n",
    "    unknown_matrix = 0\n",
    "    \n",
    "    #these are the building blocks of the Pauli objects we are going to have, like II\n",
    "    pauli_mat = ('I','X','Y','Z') \n",
    "    for i in range(0,4):\n",
    "        for j in range(0,4):\n",
    "            #we create the list of the labels\n",
    "            list_labels.append(pauli_mat[i] + pauli_mat[j])\n",
    "            pauli_operator.append(Operator(Pauli(label=pauli_mat[i] + pauli_mat[j])))\n",
    "            \n",
    "    for i in range(0,16):\n",
    "        # we create the list of symbols, which we need to solve the equations below\n",
    "        symbols.append(Symbol(list_labels[i]))  \n",
    "        \n",
    "    for i in range(0,16):\n",
    "        # we create the matrix containing the various pauli operators and the unknown\n",
    "        unknown_matrix = unknown_matrix + (Symbol(list_labels[i])) * pauli_operator[i].data \n",
    "        \n",
    "    for i in range(0, 4):\n",
    "        for j in range(0,4):\n",
    "            # we create the list of equations\n",
    "            equations.append(unknown_matrix[i,j] - matrix[i,j]) \n",
    "    sol = solve(equations , symbols, manual = True)\n",
    "    \n",
    "    # we create the dictionary to give to the WeightedPauliOperator \n",
    "    for i in range(0,16):\n",
    "        list_dict.append({\"coeff\": {\"imag\": 0.0, \"real\": sol[0][i]}, \"label\": list_labels[i]})\n",
    "    pauli_dict = {\n",
    "        'paulis': list_dict\n",
    "    } \n",
    "    return WeightedPauliOperator.from_dict(pauli_dict)"
   ]
  },
  {
   "cell_type": "markdown",
   "metadata": {},
   "source": [
    "\n",
    "and we are going to use this function to transform our matrix $A$ in the sum of Pauli operators"
   ]
  },
  {
   "cell_type": "code",
   "execution_count": 4,
   "metadata": {},
   "outputs": [],
   "source": [
    "H = HO(A)"
   ]
  },
  {
   "cell_type": "markdown",
   "metadata": {},
   "source": [
    "\n",
    "#  Calculation of Ground State Energy"
   ]
  },
  {
   "cell_type": "markdown",
   "metadata": {},
   "source": [
    "For an $n$-qubit quantum state, measuring one qubit corresponds to projecting the quantum state onto one of two half-spaces determined by the unique eigenvalues of our measurement operator.\n",
    "\n",
    "By convention, performing a computational basis measurement is equivalent to measuring in measuring Pauli Z, which gives us two eigenvectors $|0\\rangle$ and $|1\\rangle$, with corresponding eigenvalues $\\pm 1$. Therefore, doing a computation measurement of a qubit and obtaining $0$ means the state of our qubit is in the $+1$ eigenstate of the $Z$ operator.\n",
    "\n",
    "Now, we will calculate the ground state energy via the ExactEigensolver class"
   ]
  },
  {
   "cell_type": "code",
   "execution_count": 5,
   "metadata": {},
   "outputs": [
    {
     "name": "stderr",
     "output_type": "stream",
     "text": [
      "C:\\ProgramData\\Anaconda3\\lib\\site-packages\\qiskit\\aqua\\algorithms\\eigen_solvers\\numpy_eigen_solver.py:242: DeprecationWarning: Deprecated class ExactEigensolver, use NumPyEigensolver.\n",
      "  DeprecationWarning)\n",
      "C:\\ProgramData\\Anaconda3\\lib\\site-packages\\qiskit\\aqua\\algorithms\\eigen_solvers\\eigen_solver_result.py:64: DeprecationWarning: energy deprecated, use eigenvalues property.\n",
      "  warnings.warn('energy deprecated, use eigenvalues property.', DeprecationWarning)\n"
     ]
    }
   ],
   "source": [
    "exact_eigensolver = ExactEigensolver(H)\n",
    "result = exact_eigensolver.run()\n",
    "reference_energy = result['energy']"
   ]
  },
  {
   "cell_type": "markdown",
   "metadata": {},
   "source": [
    "\n",
    "# Designing Ansatz "
   ]
  },
  {
   "cell_type": "markdown",
   "metadata": {},
   "source": [
    "Ansatze are simply a parameterized quantum circuits (PQC), which plays an important role in the performance of HQC algorithms. Major challenge while designing an asatz is to choose an effective template circuit that well represents the solution space while maintaining a low circuit depth and number of parameters.\n",
    "\n",
    "As already mentioned, a challenging aspect in the VQE algorithms is the choice of the ansatz: indeed, it is important to choose an ansatz which includes the ground state or very close to the true ground state of the system, in order to have a good estimate of the ground state energy.\n",
    "\n",
    "To build the ground state via a quantum cirquit starting from the state $\\left| 00 \\right\\rangle$, a Hadamard gate, and a subsequent CNOT gate are necessary, in order to make a superposition and to create the entanglement. Hence, we will work with the following ansatz:\n",
    "\n",
    "$$\n",
    "\\left( R_z \\left(\\alpha\\right) \\, I \\right)\\left( R_x \\left(\\beta \\right) \\, I \\right) CX \\left( HI \\right) \\, \\left| 00 \\right\\rangle \\ ,\n",
    "$$\n",
    "\n",
    "where the last two gates determine the relative angle betweent the two qubits; out of which RX is variational here. Given this ansatz, we now define a function which, given two parameters, prepares the quantum state associated to the ansatz, together with the two classical bits for the measurements.\n",
    "\n"
   ]
  },
  {
   "cell_type": "code",
   "execution_count": 6,
   "metadata": {},
   "outputs": [],
   "source": [
    "def real_ansatz(param):\n",
    "    qc = QuantumCircuit(2,2)\n",
    "    # Add a H gate on qubit 0, putting this qubit in a superposition.\n",
    "    qc.h(0)\n",
    "    # Add a CX (CNOT) gate on control qubit 0 and target qubit 1, putting\n",
    "    # the qubits in a Bell state and creating then entanglement.\n",
    "    qc.cx(0, 1)\n",
    "    # and now we create the part of the Ansatz controlled by the parameters:\n",
    "    #we do an Rx rotation and an Rz rotation (in this order!)\n",
    "    qc.rx(param[0],0)\n",
    "    qc.rz(param[1],0)\n",
    "    return qc"
   ]
  },
  {
   "cell_type": "markdown",
   "metadata": {},
   "source": [
    "\n",
    "Now, we will convert our hamiltonian i.e H in dictionary form by using Qiskit built-in method .to_dict()"
   ]
  },
  {
   "cell_type": "code",
   "execution_count": 7,
   "metadata": {},
   "outputs": [
    {
     "data": {
      "text/plain": [
       "{'paulis': [{'label': 'II', 'coeff': {'real': 0.5, 'imag': 0.0}},\n",
       "  {'label': 'XX', 'coeff': {'real': -0.5, 'imag': 0.0}},\n",
       "  {'label': 'YY', 'coeff': {'real': -0.5, 'imag': 0.0}},\n",
       "  {'label': 'ZZ', 'coeff': {'real': 0.5, 'imag': 0.0}}]}"
      ]
     },
     "execution_count": 7,
     "metadata": {},
     "output_type": "execute_result"
    }
   ],
   "source": [
    "H_dict = H.to_dict()\n",
    "H_dict"
   ]
  },
  {
   "cell_type": "markdown",
   "metadata": {},
   "source": [
    "\n",
    "\n",
    "& now we will prepare a new function to get a list of dictionaries from H i.e. U_dict"
   ]
  },
  {
   "cell_type": "code",
   "execution_count": 8,
   "metadata": {},
   "outputs": [],
   "source": [
    "def pauli_to_dict(pauli_operator):\n",
    "    \n",
    "    \"\"\"\n",
    "    This function eats our hamiltonian, constructed previously, and converts it to a list of dictionaries:\n",
    "    [{'label': 'II', 'coeff': 0.5},\n",
    " {'label': 'XX', 'coeff': -0.5},\n",
    " {'label': 'YY', 'coeff': -0.5},\n",
    " {'label': 'ZZ', 'coeff': 0.5}].\n",
    "    \"\"\"\n",
    "    \n",
    "    dict_long = pauli_operator.to_dict()\n",
    "    paulis = dict_long['paulis']\n",
    "    paulis_dict = []\n",
    "\n",
    "    for x in paulis:\n",
    "        label = x['label']\n",
    "        coeff = x['coeff']['real']\n",
    "        paulis_dict.append({'label' : label , 'coeff' : coeff})\n",
    "\n",
    "    return paulis_dict\n",
    "U_dict = pauli_to_dict(H)"
   ]
  },
  {
   "cell_type": "markdown",
   "metadata": {},
   "source": [
    "\n",
    "When working with dictionaries, it is good to have a function which, given a label, returns the value associated to that label or returns $0$ if that label does not exist in the dictionary"
   ]
  },
  {
   "cell_type": "code",
   "execution_count": 9,
   "metadata": {},
   "outputs": [],
   "source": [
    "\n",
    "def get_or_else_zero(d: dict, key: str):\n",
    "    \n",
    "    \"\"\"\n",
    "    Utility for working with dictionaries. If key is missing\n",
    "    than return 0 otherwise the corresponding value.\n",
    "    :param dict: the dictionary.\n",
    "    :param key: key (string) in interest.\n",
    "    :return: 0 or value of corresponding key.\n",
    "    \"\"\"\n",
    "    \n",
    "    value = 0\n",
    "    if key in d:\n",
    "        value = d[key]\n",
    "    return value"
   ]
  },
  {
   "cell_type": "markdown",
   "metadata": {},
   "source": [
    "\n",
    "Now, we define a function that, given a circuit, a qubit, and a measurement to do, appends the gate associated with the measurements we are going to do on the qubit and connect the qubit to the corresponding classical bit"
   ]
  },
  {
   "cell_type": "code",
   "execution_count": 10,
   "metadata": {},
   "outputs": [],
   "source": [
    "def measurement_circuit(circuit, measure : str, qubit):\n",
    "    \n",
    "    \"\"\"\n",
    "    Create the preparation for a measurement: it adds the gates \n",
    "    necessary to convert the circuit to the appropriate \n",
    "    computational basis and connect the qubits with the corresponding classical bits\n",
    "    \"\"\"\n",
    "\n",
    "    if measure == 'Z':\n",
    "        circuit.measure(qubit, qubit)\n",
    "    elif measure == 'X':\n",
    "        circuit.u2(qubit, np.pi, qubit)\n",
    "        circuit.measure(qubit, qubit)\n",
    "    elif measure == 'Y':\n",
    "        circuit.u2(qubit, np.pi/2, qubit)\n",
    "        circuit.measure(qubit, qubit)\n",
    "    \n",
    "    return circuit"
   ]
  },
  {
   "cell_type": "markdown",
   "metadata": {},
   "source": [
    "\n",
    "Let us now define the function associated with the quantum part of the algorithm. This function prepares the quantum circuit and performs the quantum experiment associated with a certain measurement. In the case the measurement involves an identity operator on one of the two qubits, we do the measurement on the other qubit only"
   ]
  },
  {
   "cell_type": "code",
   "execution_count": 11,
   "metadata": {},
   "outputs": [],
   "source": [
    "def quantum_mod(parameters, measure):\n",
    "    \n",
    "    # we check the presence of identity operators    \n",
    "    if measure == 'II':\n",
    "        return 1 # if both operators are identity there is nothing to measure\n",
    "    elif measure[0] == 'I':\n",
    "        check_identity = 2\n",
    "    elif measure[1] == 'I':\n",
    "        check_identity = 1\n",
    "    else:\n",
    "        check_identity = 0\n",
    "    \n",
    "    # quantum state preparation\n",
    "    circuit = real_ansatz(parameters)\n",
    "    \n",
    "    for i in range(0,2):\n",
    "        circuit = measurement_circuit(circuit, measure[i] , i)\n",
    "    \n",
    "    shots = 2000\n",
    "    backend = BasicAer.get_backend('qasm_simulator')\n",
    "    job = execute(circuit, backend, shots=shots)\n",
    "    result = job.result()\n",
    "    counts = result.get_counts()\n",
    "    \n",
    "    if check_identity == 0:\n",
    "        expectation_value = (get_or_else_zero(counts, '00') + get_or_else_zero(counts, '11')  - get_or_else_zero(counts,'01') -  get_or_else_zero(counts,'10')) / shots\n",
    "    elif check_identity == 2:\n",
    "        expectation_value = (get_or_else_zero(counts, '00') - get_or_else_zero(counts,'10')) / shots\n",
    "    elif check_identity == 1:\n",
    "        expectation_value = (get_or_else_zero(counts, '00') - get_or_else_zero(counts,'01')) / shots\n",
    "    \n",
    "    return expectation_value\n"
   ]
  },
  {
   "cell_type": "markdown",
   "metadata": {},
   "source": [
    "\n",
    "Now, we will define the main function, which sums the results of the measurements perfomed on the various terms of the hamiltonian."
   ]
  },
  {
   "cell_type": "code",
   "execution_count": 12,
   "metadata": {},
   "outputs": [],
   "source": [
    "def vqe(parameters):\n",
    "    \n",
    "    classical_adder = 0\n",
    "        \n",
    "    for i in range(0, len(U_dict)):\n",
    "        classical_adder = classical_adder + U_dict[i]['coeff'] * quantum_mod(parameters, U_dict[i]['label'])\n",
    "    \n",
    "    return classical_adder"
   ]
  },
  {
   "cell_type": "markdown",
   "metadata": {},
   "source": [
    "\n",
    "Finally, we are ready to compute the ground state with the VQE algorithm. We use two methods: in the first we simply scan all the values of the parameters for our ansatz, in the second we use the minimize() method of scipy."
   ]
  },
  {
   "cell_type": "code",
   "execution_count": 13,
   "metadata": {},
   "outputs": [
    {
     "name": "stdout",
     "output_type": "stream",
     "text": [
      "The exact ground state energy is: -0.9999999999999999\n",
      "The estimated ground state energy using the VQE algorithm is: -1.0\n"
     ]
    }
   ],
   "source": [
    "n_spacing_alpha = 25\n",
    "n_spacing_beta = 25\n",
    "parameters_array_alpha = np.linspace(0, 2 * np.pi, n_spacing_alpha)\n",
    "parameters_array_beta = np.linspace(0, np.pi, n_spacing_beta)\n",
    "sol_list = []\n",
    "\n",
    "for i in range(0 , n_spacing_alpha):\n",
    "    for j in range(0 , n_spacing_beta):\n",
    "        sol_list.append(vqe([parameters_array_alpha[i] , parameters_array_alpha[j]]))\n",
    "\n",
    "print('The exact ground state energy is: {}'.format(reference_energy))\n",
    "print('The estimated ground state energy using the VQE algorithm is: {}'.format((sorted(sol_list))[0]))"
   ]
  },
  {
   "cell_type": "code",
   "execution_count": 14,
   "metadata": {},
   "outputs": [
    {
     "name": "stdout",
     "output_type": "stream",
     "text": [
      "The exact ground state energy is: -0.9999999999999999\n",
      "The estimated ground state energy from VQE algorithm and by minimization method is: -1.0\n"
     ]
    }
   ],
   "source": [
    "parameters_array = np.array([np.pi, np.pi]) # starting point for the parameters\n",
    "tol = 1e-5 # tolerance for the required precision.\n",
    "\n",
    "vqe_result = minimize(vqe, parameters_array, method = 'Powell',tol=tol)\n",
    "print('The exact ground state energy is: {}'.format(reference_energy))\n",
    "print('The estimated ground state energy from VQE algorithm and by minimization method is: {}'.format(vqe_result.fun))"
   ]
  },
  {
   "cell_type": "markdown",
   "metadata": {},
   "source": [
    "\n",
    "as we can see, the quality of the approximation is extremely good. This is not surprising, since the ground state falls in the ansatz we used."
   ]
  },
  {
   "cell_type": "markdown",
   "metadata": {},
   "source": [
    "\n",
    "# Where we go from here :"
   ]
  },
  {
   "cell_type": "markdown",
   "metadata": {},
   "source": [
    "\n",
    "We can generalize a bit our algorithm and consider more general matrices: we keep a matrix with the same structure of non-vanishing coefficients, but we replace the coefficients with random numbers (but we impose the restriction that the matrix is symmetric). We can also add few terms on the main diagonal."
   ]
  },
  {
   "cell_type": "code",
   "execution_count": 15,
   "metadata": {},
   "outputs": [
    {
     "name": "stderr",
     "output_type": "stream",
     "text": [
      "C:\\ProgramData\\Anaconda3\\lib\\site-packages\\qiskit\\aqua\\algorithms\\eigen_solvers\\numpy_eigen_solver.py:242: DeprecationWarning: Deprecated class ExactEigensolver, use NumPyEigensolver.\n",
      "  DeprecationWarning)\n",
      "C:\\ProgramData\\Anaconda3\\lib\\site-packages\\qiskit\\aqua\\algorithms\\eigen_solvers\\eigen_solver_result.py:64: DeprecationWarning: energy deprecated, use eigenvalues property.\n",
      "  warnings.warn('energy deprecated, use eigenvalues property.', DeprecationWarning)\n"
     ]
    },
    {
     "data": {
      "text/plain": [
       "[{'label': 'II', 'coeff': 0.1583376005168618},\n",
       " {'label': 'IZ', 'coeff': -0.0618210635387664},\n",
       " {'label': 'XX', 'coeff': 0.1719003955665805},\n",
       " {'label': 'YY', 'coeff': 0.1719003955665805},\n",
       " {'label': 'ZI', 'coeff': -0.0618210635387664},\n",
       " {'label': 'ZZ', 'coeff': 0.0618210635387664}]"
      ]
     },
     "execution_count": 15,
     "metadata": {},
     "output_type": "execute_result"
    }
   ],
   "source": [
    "x = random()\n",
    "y = random()\n",
    "\n",
    "A = np.array([[x , 0. , 0. , 0.], [0. , x , y , 0.] , [0 , y , x, 0.] , [0. , 0. , 0. , y]])\n",
    "H = HO(A)\n",
    "\n",
    "exact_eigensolver = ExactEigensolver(H)\n",
    "result = exact_eigensolver.run()\n",
    "reference_energy = result['energy']\n",
    "\n",
    "U_dict = pauli_to_dict(H)\n",
    "U_dict"
   ]
  },
  {
   "cell_type": "code",
   "execution_count": 16,
   "metadata": {},
   "outputs": [
    {
     "name": "stdout",
     "output_type": "stream",
     "text": [
      "The exact ground state energy is: -0.24728425415506547\n",
      "The estimated ground state energy using the VQE algorithm is: -0.2422767480084255\n"
     ]
    }
   ],
   "source": [
    "n_spacing_alpha = 25\n",
    "n_spacing_beta = 25\n",
    "parameters_array_alpha = np.linspace(0, 2 * np.pi, n_spacing_alpha)\n",
    "parameters_array_beta = np.linspace(0, np.pi, n_spacing_beta)\n",
    "sol_list = []\n",
    "\n",
    "for i in range(0 , n_spacing_alpha):\n",
    "    for j in range(0 , n_spacing_beta):\n",
    "        sol_list.append(vqe([parameters_array_alpha[i] , parameters_array_alpha[j]]))\n",
    "\n",
    "print('The exact ground state energy is: {}'.format(reference_energy))\n",
    "print('The estimated ground state energy using the VQE algorithm is: {}'.format((sorted(sol_list))[0]))"
   ]
  },
  {
   "cell_type": "code",
   "execution_count": 17,
   "metadata": {},
   "outputs": [
    {
     "name": "stderr",
     "output_type": "stream",
     "text": [
      "C:\\ProgramData\\Anaconda3\\lib\\site-packages\\qiskit\\aqua\\algorithms\\eigen_solvers\\numpy_eigen_solver.py:242: DeprecationWarning: Deprecated class ExactEigensolver, use NumPyEigensolver.\n",
      "  DeprecationWarning)\n",
      "C:\\ProgramData\\Anaconda3\\lib\\site-packages\\qiskit\\aqua\\algorithms\\eigen_solvers\\eigen_solver_result.py:64: DeprecationWarning: energy deprecated, use eigenvalues property.\n",
      "  warnings.warn('energy deprecated, use eigenvalues property.', DeprecationWarning)\n"
     ]
    },
    {
     "data": {
      "text/plain": [
       "[{'label': 'II', 'coeff': 0.27688655717123173},\n",
       " {'label': 'IX', 'coeff': 0.15127459341902824},\n",
       " {'label': 'IY', 'coeff': 0.0},\n",
       " {'label': 'IZ', 'coeff': -0.02566262966682475},\n",
       " {'label': 'XX', 'coeff': 0.3598785657742115},\n",
       " {'label': 'YY', 'coeff': 0.3598785657742115},\n",
       " {'label': 'ZI', 'coeff': -0.02566262966682475},\n",
       " {'label': 'ZX', 'coeff': 0.09994933408537875},\n",
       " {'label': 'ZY', 'coeff': 0.0},\n",
       " {'label': 'ZZ', 'coeff': -0.22556129783758225}]"
      ]
     },
     "execution_count": 17,
     "metadata": {},
     "output_type": "execute_result"
    }
   ],
   "source": [
    "x = random()\n",
    "y = random()\n",
    "z = random()\n",
    "\n",
    "A = np.array([[0. , x , 0. , 0.], [0. , x , y , 0.] , [0 , y , x, z] , [0. , 0. , 0. , z]])\n",
    "H = HO(A)\n",
    "\n",
    "exact_eigensolver = ExactEigensolver(H)\n",
    "result = exact_eigensolver.run()\n",
    "reference_energy = result['energy']\n",
    "\n",
    "U_dict = pauli_to_dict(H)\n",
    "U_dict\n"
   ]
  },
  {
   "cell_type": "code",
   "execution_count": 18,
   "metadata": {},
   "outputs": [
    {
     "name": "stdout",
     "output_type": "stream",
     "text": [
      "The exact ground state energy is: -0.3975270523209651\n",
      "The estimated ground state energy using the VQE algorithm is: -0.2166285394930849\n"
     ]
    }
   ],
   "source": [
    "n_spacing_alpha = 25\n",
    "n_spacing_beta = 25\n",
    "parameters_array_alpha = np.linspace(0, 2 * np.pi, n_spacing_alpha)\n",
    "parameters_array_beta = np.linspace(0, np.pi, n_spacing_beta)\n",
    "sol_list = []\n",
    "\n",
    "for i in range(0 , n_spacing_alpha):\n",
    "    for j in range(0 , n_spacing_beta):\n",
    "        sol_list.append(vqe([parameters_array_alpha[i] , parameters_array_alpha[j]]))\n",
    "\n",
    "print('The exact ground state energy is: {}'.format(reference_energy))\n",
    "print('The estimated ground state energy using the VQE algorithm is: {}'.format((sorted(sol_list))[0]))"
   ]
  },
  {
   "cell_type": "markdown",
   "metadata": {},
   "source": [
    "\n",
    "#### That's all !! "
   ]
  },
  {
   "cell_type": "code",
   "execution_count": null,
   "metadata": {},
   "outputs": [],
   "source": []
  }
 ],
 "metadata": {
  "kernelspec": {
   "display_name": "Python 3",
   "language": "python",
   "name": "python3"
  },
  "language_info": {
   "codemirror_mode": {
    "name": "ipython",
    "version": 3
   },
   "file_extension": ".py",
   "mimetype": "text/x-python",
   "name": "python",
   "nbconvert_exporter": "python",
   "pygments_lexer": "ipython3",
   "version": "3.7.6"
  }
 },
 "nbformat": 4,
 "nbformat_minor": 4
}
